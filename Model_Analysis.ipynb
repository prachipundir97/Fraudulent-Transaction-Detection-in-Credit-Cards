{
 "cells": [
  {
   "cell_type": "code",
   "execution_count": 1,
   "id": "c1725f8c",
   "metadata": {},
   "outputs": [],
   "source": [
    "# Importing Basic Libraries\n",
    "import numpy as np\n",
    "import pandas as pd\n",
    "\n",
    "import matplotlib.pyplot as plt\n",
    "%matplotlib inline\n",
    "import seaborn as sns\n",
    "\n",
    "import sklearn\n",
    "from sklearn import metrics\n",
    "from sklearn import preprocessing\n",
    "\n",
    "from sklearn.metrics import plot_confusion_matrix\n",
    "\n",
    "import warnings\n",
    "warnings.filterwarnings('ignore')"
   ]
  },
  {
   "cell_type": "markdown",
   "id": "24791a7b",
   "metadata": {},
   "source": [
    "### Model Analysis"
   ]
  },
  {
   "cell_type": "markdown",
   "id": "e2528c18",
   "metadata": {},
   "source": [
    "After sampling and one-hot encoding of the dataset, we can finally test different types of model on it. In this section, we will fit one of the samples created in the previous module on different Machine Learning Algorithms, namely:\n",
    "\n",
    "Logistic Regression\n",
    "\n",
    "Multilayer Perceptron\n",
    "\n",
    "Decision Tree \n",
    "\n",
    "Naive Bayes\n",
    "\n",
    "K-Nearest Neighbor\n",
    "\n",
    "Since the data is skewed towards the Non-Fraud transactions and we are trying to maximize True Positives while minimizing False Positives, the metric used for evaluating the performance of the models shall be the f1-score, which takes both precision and recall into account.\n",
    "\n",
    "Note that the scores are obtained using 'metrics.f1_score(y_test, y_pred, average=\"binary\")'.\n",
    "The average here is kept as binary since this is a two-class problem"
   ]
  },
  {
   "cell_type": "code",
   "execution_count": 2,
   "id": "624417e2",
   "metadata": {},
   "outputs": [
    {
     "data": {
      "text/html": [
       "<div>\n",
       "<style scoped>\n",
       "    .dataframe tbody tr th:only-of-type {\n",
       "        vertical-align: middle;\n",
       "    }\n",
       "\n",
       "    .dataframe tbody tr th {\n",
       "        vertical-align: top;\n",
       "    }\n",
       "\n",
       "    .dataframe thead th {\n",
       "        text-align: right;\n",
       "    }\n",
       "</style>\n",
       "<table border=\"1\" class=\"dataframe\">\n",
       "  <thead>\n",
       "    <tr style=\"text-align: right;\">\n",
       "      <th></th>\n",
       "      <th>Unnamed: 0</th>\n",
       "      <th>Merchant_State=AA</th>\n",
       "      <th>Merchant_State=AK</th>\n",
       "      <th>Merchant_State=AL</th>\n",
       "      <th>Merchant_State=AR</th>\n",
       "      <th>Merchant_State=AZ</th>\n",
       "      <th>Merchant_State=Albania</th>\n",
       "      <th>Merchant_State=Algeria</th>\n",
       "      <th>Merchant_State=Andorra</th>\n",
       "      <th>Merchant_State=Angola</th>\n",
       "      <th>...</th>\n",
       "      <th>Month</th>\n",
       "      <th>Day</th>\n",
       "      <th>Time</th>\n",
       "      <th>Amount</th>\n",
       "      <th>Merchant_Name</th>\n",
       "      <th>Merchant_City</th>\n",
       "      <th>Zip</th>\n",
       "      <th>MCC</th>\n",
       "      <th>Errors</th>\n",
       "      <th>Is_Fraud</th>\n",
       "    </tr>\n",
       "  </thead>\n",
       "  <tbody>\n",
       "    <tr>\n",
       "      <th>0</th>\n",
       "      <td>0</td>\n",
       "      <td>0.0</td>\n",
       "      <td>0.0</td>\n",
       "      <td>0.0</td>\n",
       "      <td>0.0</td>\n",
       "      <td>0.0</td>\n",
       "      <td>0.0</td>\n",
       "      <td>0.0</td>\n",
       "      <td>0.0</td>\n",
       "      <td>0.0</td>\n",
       "      <td>...</td>\n",
       "      <td>NaN</td>\n",
       "      <td>NaN</td>\n",
       "      <td>NaN</td>\n",
       "      <td>NaN</td>\n",
       "      <td>NaN</td>\n",
       "      <td>NaN</td>\n",
       "      <td>NaN</td>\n",
       "      <td>NaN</td>\n",
       "      <td>NaN</td>\n",
       "      <td>NaN</td>\n",
       "    </tr>\n",
       "    <tr>\n",
       "      <th>1</th>\n",
       "      <td>1</td>\n",
       "      <td>0.0</td>\n",
       "      <td>0.0</td>\n",
       "      <td>0.0</td>\n",
       "      <td>0.0</td>\n",
       "      <td>0.0</td>\n",
       "      <td>0.0</td>\n",
       "      <td>0.0</td>\n",
       "      <td>0.0</td>\n",
       "      <td>0.0</td>\n",
       "      <td>...</td>\n",
       "      <td>NaN</td>\n",
       "      <td>NaN</td>\n",
       "      <td>NaN</td>\n",
       "      <td>NaN</td>\n",
       "      <td>NaN</td>\n",
       "      <td>NaN</td>\n",
       "      <td>NaN</td>\n",
       "      <td>NaN</td>\n",
       "      <td>NaN</td>\n",
       "      <td>NaN</td>\n",
       "    </tr>\n",
       "    <tr>\n",
       "      <th>2</th>\n",
       "      <td>2</td>\n",
       "      <td>0.0</td>\n",
       "      <td>0.0</td>\n",
       "      <td>0.0</td>\n",
       "      <td>0.0</td>\n",
       "      <td>0.0</td>\n",
       "      <td>0.0</td>\n",
       "      <td>0.0</td>\n",
       "      <td>0.0</td>\n",
       "      <td>0.0</td>\n",
       "      <td>...</td>\n",
       "      <td>NaN</td>\n",
       "      <td>NaN</td>\n",
       "      <td>NaN</td>\n",
       "      <td>NaN</td>\n",
       "      <td>NaN</td>\n",
       "      <td>NaN</td>\n",
       "      <td>NaN</td>\n",
       "      <td>NaN</td>\n",
       "      <td>NaN</td>\n",
       "      <td>NaN</td>\n",
       "    </tr>\n",
       "    <tr>\n",
       "      <th>3</th>\n",
       "      <td>3</td>\n",
       "      <td>0.0</td>\n",
       "      <td>0.0</td>\n",
       "      <td>0.0</td>\n",
       "      <td>0.0</td>\n",
       "      <td>0.0</td>\n",
       "      <td>0.0</td>\n",
       "      <td>0.0</td>\n",
       "      <td>0.0</td>\n",
       "      <td>0.0</td>\n",
       "      <td>...</td>\n",
       "      <td>NaN</td>\n",
       "      <td>NaN</td>\n",
       "      <td>NaN</td>\n",
       "      <td>NaN</td>\n",
       "      <td>NaN</td>\n",
       "      <td>NaN</td>\n",
       "      <td>NaN</td>\n",
       "      <td>NaN</td>\n",
       "      <td>NaN</td>\n",
       "      <td>NaN</td>\n",
       "    </tr>\n",
       "    <tr>\n",
       "      <th>4</th>\n",
       "      <td>4</td>\n",
       "      <td>0.0</td>\n",
       "      <td>0.0</td>\n",
       "      <td>0.0</td>\n",
       "      <td>0.0</td>\n",
       "      <td>0.0</td>\n",
       "      <td>0.0</td>\n",
       "      <td>0.0</td>\n",
       "      <td>0.0</td>\n",
       "      <td>0.0</td>\n",
       "      <td>...</td>\n",
       "      <td>NaN</td>\n",
       "      <td>NaN</td>\n",
       "      <td>NaN</td>\n",
       "      <td>NaN</td>\n",
       "      <td>NaN</td>\n",
       "      <td>NaN</td>\n",
       "      <td>NaN</td>\n",
       "      <td>NaN</td>\n",
       "      <td>NaN</td>\n",
       "      <td>NaN</td>\n",
       "    </tr>\n",
       "    <tr>\n",
       "      <th>...</th>\n",
       "      <td>...</td>\n",
       "      <td>...</td>\n",
       "      <td>...</td>\n",
       "      <td>...</td>\n",
       "      <td>...</td>\n",
       "      <td>...</td>\n",
       "      <td>...</td>\n",
       "      <td>...</td>\n",
       "      <td>...</td>\n",
       "      <td>...</td>\n",
       "      <td>...</td>\n",
       "      <td>...</td>\n",
       "      <td>...</td>\n",
       "      <td>...</td>\n",
       "      <td>...</td>\n",
       "      <td>...</td>\n",
       "      <td>...</td>\n",
       "      <td>...</td>\n",
       "      <td>...</td>\n",
       "      <td>...</td>\n",
       "      <td>...</td>\n",
       "    </tr>\n",
       "    <tr>\n",
       "      <th>575126</th>\n",
       "      <td>24386290</td>\n",
       "      <td>NaN</td>\n",
       "      <td>NaN</td>\n",
       "      <td>NaN</td>\n",
       "      <td>NaN</td>\n",
       "      <td>NaN</td>\n",
       "      <td>NaN</td>\n",
       "      <td>NaN</td>\n",
       "      <td>NaN</td>\n",
       "      <td>NaN</td>\n",
       "      <td>...</td>\n",
       "      <td>9.0</td>\n",
       "      <td>24.0</td>\n",
       "      <td>12.0</td>\n",
       "      <td>144.98</td>\n",
       "      <td>-5.467922e+18</td>\n",
       "      <td>19.0</td>\n",
       "      <td>19.0</td>\n",
       "      <td>5912.0</td>\n",
       "      <td>283991.0</td>\n",
       "      <td>No</td>\n",
       "    </tr>\n",
       "    <tr>\n",
       "      <th>575127</th>\n",
       "      <td>24386370</td>\n",
       "      <td>NaN</td>\n",
       "      <td>NaN</td>\n",
       "      <td>NaN</td>\n",
       "      <td>NaN</td>\n",
       "      <td>NaN</td>\n",
       "      <td>NaN</td>\n",
       "      <td>NaN</td>\n",
       "      <td>NaN</td>\n",
       "      <td>NaN</td>\n",
       "      <td>...</td>\n",
       "      <td>10.0</td>\n",
       "      <td>12.0</td>\n",
       "      <td>7.0</td>\n",
       "      <td>22.01</td>\n",
       "      <td>-5.841929e+18</td>\n",
       "      <td>45373.0</td>\n",
       "      <td>45373.0</td>\n",
       "      <td>4121.0</td>\n",
       "      <td>283991.0</td>\n",
       "      <td>No</td>\n",
       "    </tr>\n",
       "    <tr>\n",
       "      <th>575128</th>\n",
       "      <td>24386502</td>\n",
       "      <td>NaN</td>\n",
       "      <td>NaN</td>\n",
       "      <td>NaN</td>\n",
       "      <td>NaN</td>\n",
       "      <td>NaN</td>\n",
       "      <td>NaN</td>\n",
       "      <td>NaN</td>\n",
       "      <td>NaN</td>\n",
       "      <td>NaN</td>\n",
       "      <td>...</td>\n",
       "      <td>11.0</td>\n",
       "      <td>14.0</td>\n",
       "      <td>7.0</td>\n",
       "      <td>44.93</td>\n",
       "      <td>-6.160036e+18</td>\n",
       "      <td>45373.0</td>\n",
       "      <td>45373.0</td>\n",
       "      <td>4121.0</td>\n",
       "      <td>283991.0</td>\n",
       "      <td>No</td>\n",
       "    </tr>\n",
       "    <tr>\n",
       "      <th>575129</th>\n",
       "      <td>24386615</td>\n",
       "      <td>NaN</td>\n",
       "      <td>NaN</td>\n",
       "      <td>NaN</td>\n",
       "      <td>NaN</td>\n",
       "      <td>NaN</td>\n",
       "      <td>NaN</td>\n",
       "      <td>NaN</td>\n",
       "      <td>NaN</td>\n",
       "      <td>NaN</td>\n",
       "      <td>...</td>\n",
       "      <td>12.0</td>\n",
       "      <td>9.0</td>\n",
       "      <td>19.0</td>\n",
       "      <td>44.93</td>\n",
       "      <td>2.500999e+18</td>\n",
       "      <td>19.0</td>\n",
       "      <td>19.0</td>\n",
       "      <td>4121.0</td>\n",
       "      <td>283991.0</td>\n",
       "      <td>No</td>\n",
       "    </tr>\n",
       "    <tr>\n",
       "      <th>575130</th>\n",
       "      <td>24386699</td>\n",
       "      <td>NaN</td>\n",
       "      <td>NaN</td>\n",
       "      <td>NaN</td>\n",
       "      <td>NaN</td>\n",
       "      <td>NaN</td>\n",
       "      <td>NaN</td>\n",
       "      <td>NaN</td>\n",
       "      <td>NaN</td>\n",
       "      <td>NaN</td>\n",
       "      <td>...</td>\n",
       "      <td>12.0</td>\n",
       "      <td>24.0</td>\n",
       "      <td>12.0</td>\n",
       "      <td>-237.00</td>\n",
       "      <td>-8.566952e+18</td>\n",
       "      <td>9.0</td>\n",
       "      <td>9.0</td>\n",
       "      <td>3640.0</td>\n",
       "      <td>283991.0</td>\n",
       "      <td>No</td>\n",
       "    </tr>\n",
       "  </tbody>\n",
       "</table>\n",
       "<p>575131 rows × 249 columns</p>\n",
       "</div>"
      ],
      "text/plain": [
       "        Unnamed: 0  Merchant_State=AA  Merchant_State=AK  Merchant_State=AL  \\\n",
       "0                0                0.0                0.0                0.0   \n",
       "1                1                0.0                0.0                0.0   \n",
       "2                2                0.0                0.0                0.0   \n",
       "3                3                0.0                0.0                0.0   \n",
       "4                4                0.0                0.0                0.0   \n",
       "...            ...                ...                ...                ...   \n",
       "575126    24386290                NaN                NaN                NaN   \n",
       "575127    24386370                NaN                NaN                NaN   \n",
       "575128    24386502                NaN                NaN                NaN   \n",
       "575129    24386615                NaN                NaN                NaN   \n",
       "575130    24386699                NaN                NaN                NaN   \n",
       "\n",
       "        Merchant_State=AR  Merchant_State=AZ  Merchant_State=Albania  \\\n",
       "0                     0.0                0.0                     0.0   \n",
       "1                     0.0                0.0                     0.0   \n",
       "2                     0.0                0.0                     0.0   \n",
       "3                     0.0                0.0                     0.0   \n",
       "4                     0.0                0.0                     0.0   \n",
       "...                   ...                ...                     ...   \n",
       "575126                NaN                NaN                     NaN   \n",
       "575127                NaN                NaN                     NaN   \n",
       "575128                NaN                NaN                     NaN   \n",
       "575129                NaN                NaN                     NaN   \n",
       "575130                NaN                NaN                     NaN   \n",
       "\n",
       "        Merchant_State=Algeria  Merchant_State=Andorra  Merchant_State=Angola  \\\n",
       "0                          0.0                     0.0                    0.0   \n",
       "1                          0.0                     0.0                    0.0   \n",
       "2                          0.0                     0.0                    0.0   \n",
       "3                          0.0                     0.0                    0.0   \n",
       "4                          0.0                     0.0                    0.0   \n",
       "...                        ...                     ...                    ...   \n",
       "575126                     NaN                     NaN                    NaN   \n",
       "575127                     NaN                     NaN                    NaN   \n",
       "575128                     NaN                     NaN                    NaN   \n",
       "575129                     NaN                     NaN                    NaN   \n",
       "575130                     NaN                     NaN                    NaN   \n",
       "\n",
       "        ...  Month   Day  Time  Amount  Merchant_Name  Merchant_City      Zip  \\\n",
       "0       ...    NaN   NaN   NaN     NaN            NaN            NaN      NaN   \n",
       "1       ...    NaN   NaN   NaN     NaN            NaN            NaN      NaN   \n",
       "2       ...    NaN   NaN   NaN     NaN            NaN            NaN      NaN   \n",
       "3       ...    NaN   NaN   NaN     NaN            NaN            NaN      NaN   \n",
       "4       ...    NaN   NaN   NaN     NaN            NaN            NaN      NaN   \n",
       "...     ...    ...   ...   ...     ...            ...            ...      ...   \n",
       "575126  ...    9.0  24.0  12.0  144.98  -5.467922e+18           19.0     19.0   \n",
       "575127  ...   10.0  12.0   7.0   22.01  -5.841929e+18        45373.0  45373.0   \n",
       "575128  ...   11.0  14.0   7.0   44.93  -6.160036e+18        45373.0  45373.0   \n",
       "575129  ...   12.0   9.0  19.0   44.93   2.500999e+18           19.0     19.0   \n",
       "575130  ...   12.0  24.0  12.0 -237.00  -8.566952e+18            9.0      9.0   \n",
       "\n",
       "           MCC    Errors  Is_Fraud  \n",
       "0          NaN       NaN       NaN  \n",
       "1          NaN       NaN       NaN  \n",
       "2          NaN       NaN       NaN  \n",
       "3          NaN       NaN       NaN  \n",
       "4          NaN       NaN       NaN  \n",
       "...        ...       ...       ...  \n",
       "575126  5912.0  283991.0        No  \n",
       "575127  4121.0  283991.0        No  \n",
       "575128  4121.0  283991.0        No  \n",
       "575129  4121.0  283991.0        No  \n",
       "575130  3640.0  283991.0        No  \n",
       "\n",
       "[575131 rows x 249 columns]"
      ]
     },
     "execution_count": 2,
     "metadata": {},
     "output_type": "execute_result"
    }
   ],
   "source": [
    "df = pd.read_csv(\"Datasets/ohe_sampled_cc_1.csv\")\n",
    "df"
   ]
  },
  {
   "cell_type": "code",
   "execution_count": 3,
   "id": "405befee",
   "metadata": {},
   "outputs": [],
   "source": [
    "df.drop(\"Unnamed: 0\", 1, inplace=True)"
   ]
  },
  {
   "cell_type": "code",
   "execution_count": 4,
   "id": "10509383",
   "metadata": {},
   "outputs": [],
   "source": [
    "df=df.replace(np.NaN, 0)\n",
    "df=df.replace('No', 0)\n",
    "df=df.replace('Yes', 1)"
   ]
  },
  {
   "cell_type": "code",
   "execution_count": 5,
   "id": "85d00d5a",
   "metadata": {},
   "outputs": [
    {
     "name": "stdout",
     "output_type": "stream",
     "text": [
      "94.8260483263813\n",
      "5.173951673618706\n"
     ]
    }
   ],
   "source": [
    "classes=df['Is_Fraud'].value_counts()\n",
    "normal_share=classes[0]/df['Is_Fraud'].count()*100\n",
    "fraud_share=classes[1]/df['Is_Fraud'].count()*100\n",
    "print(normal_share)\n",
    "print(fraud_share)"
   ]
  },
  {
   "cell_type": "code",
   "execution_count": 6,
   "id": "c65dd51d",
   "metadata": {},
   "outputs": [
    {
     "data": {
      "text/plain": [
       "(575131, 248)"
      ]
     },
     "execution_count": 6,
     "metadata": {},
     "output_type": "execute_result"
    }
   ],
   "source": [
    "df.shape"
   ]
  },
  {
   "cell_type": "code",
   "execution_count": 7,
   "id": "74962a43",
   "metadata": {},
   "outputs": [
    {
     "data": {
      "text/plain": [
       "142632488"
      ]
     },
     "execution_count": 7,
     "metadata": {},
     "output_type": "execute_result"
    }
   ],
   "source": [
    "df.size"
   ]
  },
  {
   "cell_type": "markdown",
   "id": "23a3eaf0",
   "metadata": {},
   "source": [
    "### Splitting into Train and Test Data"
   ]
  },
  {
   "cell_type": "code",
   "execution_count": 8,
   "id": "289ceffc",
   "metadata": {},
   "outputs": [],
   "source": [
    "y= df[\"Is_Fraud\"]  \n",
    "X= df.drop([\"Is_Fraud\"],axis=1)"
   ]
  },
  {
   "cell_type": "code",
   "execution_count": 9,
   "id": "69d0448f",
   "metadata": {},
   "outputs": [
    {
     "name": "stdout",
     "output_type": "stream",
     "text": [
      "TRAIN: [259815 261104 236196 ... 133911  58079 407990] TEST: [456014 137476 486835 ...  34975 217165 344015]\n",
      "TRAIN: [275637 361964 334410 ... 245408 139721 358103] TEST: [ 12467 296244  35000 ... 318193 274874 112531]\n",
      "TRAIN: [102438 401762 570377 ...  38299 570358 112289] TEST: [552395  18381 113017 ... 454781 319210 471034]\n",
      "TRAIN: [ 66503 372073 343020 ... 166672  66740 512035] TEST: [285272  84573   3235 ... 313107  25229  34232]\n",
      "TRAIN: [383859 320943 399457 ... 201021 540199 219593] TEST: [452132  29810  40060 ... 536375 239827 300171]\n"
     ]
    }
   ],
   "source": [
    "from sklearn import model_selection\n",
    "from sklearn.model_selection import StratifiedShuffleSplit\n",
    "\n",
    "sss = StratifiedShuffleSplit(n_splits=5, test_size=0.3, train_size=0.7, random_state=42)\n",
    "sss.get_n_splits(X, y)\n",
    "\n",
    "for train_index, test_index in sss.split(X, y):\n",
    "    print(\"TRAIN:\", train_index, \"TEST:\", test_index)\n",
    "    X_train, X_test = X.iloc[train_index], X.iloc[test_index]\n",
    "    y_train, y_test = y.iloc[train_index], y.iloc[test_index]"
   ]
  },
  {
   "cell_type": "markdown",
   "id": "9c37b6dc",
   "metadata": {},
   "source": [
    "### Calculating Model Metrics"
   ]
  },
  {
   "cell_type": "markdown",
   "id": "dc79445c",
   "metadata": {},
   "source": [
    "Along with the values of precision, recall and f1-score, the confusion matrix for each class on the test dataset is also plotted to get a good idea of how the model is classifying the test data"
   ]
  },
  {
   "cell_type": "code",
   "execution_count": 10,
   "id": "42e79294",
   "metadata": {},
   "outputs": [],
   "source": [
    "from sklearn.metrics import confusion_matrix\n",
    "\n",
    "def K_Fold_And_Print_Metrics(mlp_clf, X, y, useMinMax=True):\n",
    "    kfold = model_selection.KFold(5, shuffle=True, random_state=2)\n",
    "\n",
    "    prec, rec, f1 = [], [], []\n",
    "\n",
    "    for train_idx, test_idx in kfold.split(X):\n",
    "        X_train, X_test = X.iloc[train_idx], X.iloc[test_idx]\n",
    "        y_train, y_test = y.iloc[train_idx], y.iloc[test_idx]\n",
    "    \n",
    "        if(useMinMax):\n",
    "            X_scaler = preprocessing.MinMaxScaler()\n",
    "            X_train = X_scaler.fit_transform(X_train)\n",
    "            X_test = X_scaler.transform(X_test)\n",
    "    \n",
    "        print(\"fitting iteration\")\n",
    "        mlp_clf.fit(X_train, y_train)\n",
    "        y_pred = mlp_clf.predict(X_test)\n",
    "        \n",
    "        tn, fp, fn, tp = confusion_matrix(y_test, y_pred, labels=[0, 1]).ravel()\n",
    "        print(tn, fp, fn, tp)\n",
    "        \n",
    "        \n",
    "    \n",
    "        #print(y_pred)\n",
    "        #print(y_test)\n",
    "    \n",
    "        rec += [metrics.recall_score(y_test, y_pred, average=\"binary\")]\n",
    "        prec += [metrics.precision_score(y_test, y_pred, average=\"binary\")]\n",
    "        f1 += [metrics.f1_score(y_test, y_pred, average=\"binary\")]\n",
    "    \n",
    "        #print()\n",
    "\n",
    "    print(\"recall    = {:.4f} ±{:.4f}\".format(np.mean(rec), np.std(rec)))\n",
    "    print(\"precision = {:.4f} ±{:.4f}\".format(np.mean(prec), np.std(prec)))\n",
    "    print(\"f1        = {:.4f} ±{:.4f}\".format(np.mean(f1), np.std(f1)))"
   ]
  },
  {
   "cell_type": "markdown",
   "id": "228d8399",
   "metadata": {},
   "source": [
    "### Logistic Regression"
   ]
  },
  {
   "cell_type": "code",
   "execution_count": 11,
   "id": "f88361ad",
   "metadata": {},
   "outputs": [
    {
     "name": "stdout",
     "output_type": "stream",
     "text": [
      "fitting iteration\n",
      "59551 16786 2098 2084\n",
      "fitting iteration\n",
      "59228 17084 2115 2091\n",
      "fitting iteration\n",
      "59251 17194 2066 2007\n",
      "fitting iteration\n",
      "59095 17153 2143 2127\n",
      "fitting iteration\n",
      "59353 17066 2066 2033\n",
      "recall    = 0.4965 ±0.0020\n",
      "precision = 0.1082 ±0.0023\n",
      "f1        = 0.1776 ±0.0033\n",
      "\n",
      "------ Test Scores: -------\n",
      "[0.4905343340427915]\n",
      "[0.10711053494117359]\n",
      "[0.17582814695844207]\n"
     ]
    },
    {
     "data": {
      "image/png": "[encoded data removed]",
      "text/plain": [
       "<Figure size 432x288 with 2 Axes>"
      ]
     },
     "metadata": {
      "needs_background": "light"
     },
     "output_type": "display_data"
    }
   ],
   "source": [
    "from sklearn.linear_model import LogisticRegression\n",
    "\n",
    "lr = LogisticRegression(C=0.1)\n",
    "K_Fold_And_Print_Metrics(lr, X_train, y_train, False)\n",
    "\n",
    "plot_confusion_matrix(lr, X_test, y_test)\n",
    "\n",
    "y_pred = lr.predict(X_test)\n",
    "print()\n",
    "print(\"------ Test Scores: -------\")\n",
    "print( [metrics.recall_score(y_test, y_pred, average=\"binary\")] )\n",
    "print ( [metrics.precision_score(y_test, y_pred, average=\"binary\")] )\n",
    "print ( [metrics.f1_score(y_test, y_pred, average=\"binary\")] )"
   ]
  },
  {
   "cell_type": "markdown",
   "id": "91122b54",
   "metadata": {},
   "source": [
    "### Multilayer Perceptron"
   ]
  },
  {
   "cell_type": "code",
   "execution_count": 13,
   "id": "b25b9114",
   "metadata": {},
   "outputs": [
    {
     "name": "stdout",
     "output_type": "stream",
     "text": [
      "fitting iteration\n",
      "76337 0 4182 0\n",
      "fitting iteration\n",
      "76312 0 4206 0\n",
      "fitting iteration\n",
      "19321 57124 2066 2007\n",
      "fitting iteration\n",
      "59095 17153 2143 2127\n",
      "fitting iteration\n",
      "57046 19373 2033 2066\n",
      "recall    = 0.2990 ±0.2441\n",
      "precision = 0.0481 ±0.0470\n",
      "f1        = 0.0812 ±0.0773\n",
      "\n",
      "------ Test Scores: -------\n",
      "[0.5094656659572084]\n",
      "[0.09934035210344677]\n",
      "[0.16626149262461387]\n"
     ]
    },
    {
     "data": {
      "image/png": "[encoded data removed]",
      "text/plain": [
       "<Figure size 432x288 with 2 Axes>"
      ]
     },
     "metadata": {
      "needs_background": "light"
     },
     "output_type": "display_data"
    }
   ],
   "source": [
    "from sklearn.neural_network import MLPClassifier\n",
    "mlp_clf_1_relu = MLPClassifier(hidden_layer_sizes=(20,20), max_iter=1000, activation=\"relu\", solver='lbfgs')\n",
    "\n",
    "K_Fold_And_Print_Metrics(mlp_clf_1_relu, X_train, y_train, False)\n",
    "\n",
    "plot_confusion_matrix(mlp_clf_1_relu, X_train, y_train)\n",
    "\n",
    "y_pred = mlp_clf_1_relu.predict(X_test)\n",
    "print()\n",
    "print(\"------ Test Scores: -------\")\n",
    "print( [metrics.recall_score(y_test, y_pred, average=\"binary\")] )\n",
    "print ( [metrics.precision_score(y_test, y_pred, average=\"binary\")] )\n",
    "print ( [metrics.f1_score(y_test, y_pred, average=\"binary\")] )\n",
    "\n",
    "#scaling the data\n",
    "X_scaler = preprocessing.MinMaxScaler()\n",
    "X_train_sc = X_scaler.fit_transform(X_train)\n",
    "X_test_sc = X_scaler.transform(X_test)\n",
    "\n",
    "#mlp_clf_1_relu = MLPClassifier(hidden_layer_sizes=(20,20), max_iter=1000, activation=\"relu\", solver='lbfgs')"
   ]
  },
  {
   "cell_type": "code",
   "execution_count": 14,
   "id": "af2863fc",
   "metadata": {},
   "outputs": [
    {
     "data": {
      "text/plain": [
       "(402591, 247)"
      ]
     },
     "execution_count": 14,
     "metadata": {},
     "output_type": "execute_result"
    }
   ],
   "source": [
    "X_train.shape"
   ]
  },
  {
   "cell_type": "markdown",
   "id": "a5c1c834",
   "metadata": {},
   "source": [
    "After a poor performance of MLP, it would be wise to try out different parameters for the same to check if the scores increase"
   ]
  },
  {
   "cell_type": "code",
   "execution_count": 15,
   "id": "ad44dc38",
   "metadata": {},
   "outputs": [
    {
     "data": {
      "text/plain": [
       "<sklearn.metrics._plot.confusion_matrix.ConfusionMatrixDisplay at 0x228dbeb01c0>"
      ]
     },
     "execution_count": 15,
     "metadata": {},
     "output_type": "execute_result"
    },
    {
     "data": {
      "image/png": "[encoded data removed]",
      "text/plain": [
       "<Figure size 432x288 with 2 Axes>"
      ]
     },
     "metadata": {
      "needs_background": "light"
     },
     "output_type": "display_data"
    },
    {
     "data": {
      "image/png": "[encoded data removed]",
      "text/plain": [
       "<Figure size 432x288 with 2 Axes>"
      ]
     },
     "metadata": {
      "needs_background": "light"
     },
     "output_type": "display_data"
    },
    {
     "data": {
      "image/png": "[encoded data removed]",
      "text/plain": [
       "<Figure size 432x288 with 2 Axes>"
      ]
     },
     "metadata": {
      "needs_background": "light"
     },
     "output_type": "display_data"
    },
    {
     "data": {
      "image/png": "[encoded data removed]",
      "text/plain": [
       "<Figure size 432x288 with 2 Axes>"
      ]
     },
     "metadata": {
      "needs_background": "light"
     },
     "output_type": "display_data"
    }
   ],
   "source": [
    "#Figuring Out which MLP with scaled data predicts best with confusion matrix\n",
    "\n",
    "split_index = 25000\n",
    "\n",
    "mlp_clf_1_relu = MLPClassifier(hidden_layer_sizes=(10,10), max_iter=1000, activation=\"relu\", solver='lbfgs')\n",
    "mlp_clf_1_relu.fit(X_train_sc[:split_index], y_train[:split_index])\n",
    "plot_confusion_matrix(mlp_clf_1_relu, X_test_sc[:split_index], y_test[:split_index])\n",
    "\n",
    "mlp_clf_1_relu = MLPClassifier(hidden_layer_sizes=(20,20), max_iter=1000, activation=\"relu\", solver='lbfgs')\n",
    "mlp_clf_1_relu.fit(X_train_sc[:split_index], y_train[:split_index])\n",
    "plot_confusion_matrix(mlp_clf_1_relu, X_test_sc[:split_index], y_test[:split_index])\n",
    "\n",
    "mlp_clf_1_relu = MLPClassifier(hidden_layer_sizes=(20,20,20,20), max_iter=1000, activation=\"relu\", solver='lbfgs')\n",
    "mlp_clf_1_relu.fit(X_train_sc[:split_index], y_train[:split_index])\n",
    "plot_confusion_matrix(mlp_clf_1_relu, X_test_sc[:split_index], y_test[:split_index])\n",
    "\n",
    "mlp_clf_1_relu = MLPClassifier(hidden_layer_sizes=(100,100), max_iter=1000, activation=\"relu\", solver='lbfgs')\n",
    "mlp_clf_1_relu.fit(X_train_sc[:split_index], y_train[:split_index])\n",
    "plot_confusion_matrix(mlp_clf_1_relu, X_test_sc[:split_index], y_test[:split_index])\n"
   ]
  },
  {
   "cell_type": "code",
   "execution_count": 16,
   "id": "a9a56e9a",
   "metadata": {},
   "outputs": [
    {
     "name": "stdout",
     "output_type": "stream",
     "text": [
      "fitting iteration\n",
      "76337 0 4182 0\n",
      "fitting iteration\n",
      "76312 0 4206 0\n",
      "fitting iteration\n",
      "76445 0 4073 0\n",
      "fitting iteration\n",
      "76248 0 4270 0\n",
      "fitting iteration\n",
      "76419 0 4099 0\n",
      "recall    = 0.0000 ±0.0000\n",
      "precision = 0.0000 ±0.0000\n",
      "f1        = 0.0000 ±0.0000\n",
      "\n",
      "\n",
      "------ Test Scores: -------\n",
      "[0.0]\n",
      "[0.0]\n",
      "[0.0]\n"
     ]
    },
    {
     "data": {
      "image/png": "[encoded data removed]",
      "text/plain": [
       "<Figure size 432x288 with 2 Axes>"
      ]
     },
     "metadata": {
      "needs_background": "light"
     },
     "output_type": "display_data"
    }
   ],
   "source": [
    "mlp_clf_1_tanh = MLPClassifier(hidden_layer_sizes=(20,20), max_iter=1000, activation=\"tanh\", solver='lbfgs')\n",
    "\n",
    "K_Fold_And_Print_Metrics(mlp_clf_1_tanh, X_train, y_train, False)\n",
    "\n",
    "print()\n",
    "#print(\"---------- Metrics with MinMaxScaler -----------\")\n",
    "\n",
    "#mlp_clf_1_tanh = MLPClassifier(hidden_layer_sizes=(10,10), max_iter=200, activation=\"relu\", solver='lbfgs')\n",
    "\n",
    "#K_Fold_And_Print_Metrics(mlp_clf_1_tanh, X_train, y_train, True)\n",
    "\n",
    "plot_confusion_matrix(mlp_clf_1_tanh, X_test, y_test)\n",
    "\n",
    "y_pred = mlp_clf_1_tanh.predict(X_test)\n",
    "print()\n",
    "print(\"------ Test Scores: -------\")\n",
    "print( [metrics.recall_score(y_test, y_pred, average=\"binary\")] )\n",
    "print ( [metrics.precision_score(y_test, y_pred, average=\"binary\")] )\n",
    "print ( [metrics.f1_score(y_test, y_pred, average=\"binary\")] )"
   ]
  },
  {
   "cell_type": "markdown",
   "id": "08a74025",
   "metadata": {},
   "source": [
    "The scores of perceptron still did not increase and it continues to perform poorly"
   ]
  },
  {
   "cell_type": "markdown",
   "id": "39daf7a6",
   "metadata": {},
   "source": [
    "### Decision Tree"
   ]
  },
  {
   "cell_type": "code",
   "execution_count": 18,
   "id": "70567d7b",
   "metadata": {},
   "outputs": [
    {
     "name": "stdout",
     "output_type": "stream",
     "text": [
      "fitting iteration\n",
      "75758 579 534 3648\n",
      "fitting iteration\n",
      "75780 532 548 3658\n",
      "fitting iteration\n",
      "75880 565 524 3549\n",
      "fitting iteration\n",
      "75642 606 575 3695\n",
      "fitting iteration\n",
      "75835 584 548 3551\n",
      "recall    = 0.8690 ±0.0027\n",
      "precision = 0.8633 ±0.0052\n",
      "f1        = 0.8661 ±0.0034\n",
      "\n",
      "------ Test Scores: -------\n",
      "[0.8786826481460737]\n",
      "[0.8652106772556806]\n",
      "[0.8718946256877674]\n"
     ]
    },
    {
     "data": {
      "image/png": "[encoded data removed]",
      "text/plain": [
       "<Figure size 432x288 with 2 Axes>"
      ]
     },
     "metadata": {
      "needs_background": "light"
     },
     "output_type": "display_data"
    }
   ],
   "source": [
    "from sklearn import tree\n",
    "\n",
    "infoGain_clf= sklearn.tree.DecisionTreeClassifier(criterion='entropy')\n",
    "\n",
    "K_Fold_And_Print_Metrics(infoGain_clf, X_train, y_train, False)\n",
    "\n",
    "plot_confusion_matrix(infoGain_clf, X_test, y_test)\n",
    "\n",
    "y_pred = infoGain_clf.predict(X_test)\n",
    "print()\n",
    "print(\"------ Test Scores: -------\")\n",
    "print( [metrics.recall_score(y_test, y_pred, average=\"binary\")] )\n",
    "print ( [metrics.precision_score(y_test, y_pred, average=\"binary\")] )\n",
    "print ( [metrics.f1_score(y_test, y_pred, average=\"binary\")] )"
   ]
  },
  {
   "cell_type": "markdown",
   "id": "5010d827",
   "metadata": {},
   "source": [
    "### Naive Bayes"
   ]
  },
  {
   "cell_type": "code",
   "execution_count": 20,
   "id": "0c5ca8a2",
   "metadata": {},
   "outputs": [
    {
     "name": "stdout",
     "output_type": "stream",
     "text": [
      "fitting iteration\n",
      "40746 35591 46 4136\n",
      "fitting iteration\n",
      "40360 35952 47 4159\n",
      "fitting iteration\n",
      "40437 36008 40 4033\n",
      "fitting iteration\n",
      "40282 35966 51 4219\n",
      "fitting iteration\n",
      "40456 35963 49 4050\n",
      "recall    = 0.9888 ±0.0008\n",
      "precision = 0.1029 ±0.0017\n",
      "f1        = 0.1865 ±0.0027\n",
      "\n",
      "------ Test Scores: -------\n",
      "[0.9902542847541167]\n",
      "[0.10335071433581967]\n",
      "[0.1871671906924551]\n"
     ]
    },
    {
     "data": {
      "image/png": "[encoded data removed]",
      "text/plain": [
       "<Figure size 432x288 with 2 Axes>"
      ]
     },
     "metadata": {
      "needs_background": "light"
     },
     "output_type": "display_data"
    }
   ],
   "source": [
    "from sklearn.naive_bayes import BernoulliNB\n",
    "clf_NB_1 = BernoulliNB()\n",
    "K_Fold_And_Print_Metrics(clf_NB_1, X_train, y_train, False)\n",
    "\n",
    "plot_confusion_matrix(clf_NB_1, X_test, y_test)\n",
    "\n",
    "y_pred = clf_NB_1.predict(X_test)\n",
    "print()\n",
    "print(\"------ Test Scores: -------\")\n",
    "print( [metrics.recall_score(y_test, y_pred, average=\"binary\")] )\n",
    "print ( [metrics.precision_score(y_test, y_pred, average=\"binary\")] )\n",
    "print ( [metrics.f1_score(y_test, y_pred, average=\"binary\")] )"
   ]
  },
  {
   "cell_type": "code",
   "execution_count": 21,
   "id": "d01edc4a",
   "metadata": {},
   "outputs": [
    {
     "name": "stdout",
     "output_type": "stream",
     "text": [
      "fitting iteration\n",
      "76337 0 4182 0\n",
      "fitting iteration\n",
      "76312 0 4206 0\n",
      "fitting iteration\n",
      "76445 0 4073 0\n",
      "fitting iteration\n",
      "76248 0 4270 0\n",
      "fitting iteration\n",
      "76419 0 4099 0\n",
      "recall    = 0.0000 ±0.0000\n",
      "precision = 0.0000 ±0.0000\n",
      "f1        = 0.0000 ±0.0000\n",
      "\n",
      "------ Test Scores: -------\n",
      "[0.0]\n",
      "[0.0]\n",
      "[0.0]\n"
     ]
    },
    {
     "data": {
      "image/png": "[encoded data removed]",
      "text/plain": [
       "<Figure size 432x288 with 2 Axes>"
      ]
     },
     "metadata": {
      "needs_background": "light"
     },
     "output_type": "display_data"
    }
   ],
   "source": [
    "from sklearn.naive_bayes import GaussianNB\n",
    "\n",
    "clf_NB_2 = GaussianNB()\n",
    "K_Fold_And_Print_Metrics(clf_NB_2, X_train, y_train, False)\n",
    "\n",
    "plot_confusion_matrix(clf_NB_2, X_test, y_test)\n",
    "\n",
    "y_pred = clf_NB_2.predict(X_test)\n",
    "print()\n",
    "print(\"------ Test Scores: -------\")\n",
    "print( [metrics.recall_score(y_test, y_pred, average=\"binary\")] )\n",
    "print ( [metrics.precision_score(y_test, y_pred, average=\"binary\")] )\n",
    "print ( [metrics.f1_score(y_test, y_pred, average=\"binary\")] )"
   ]
  },
  {
   "cell_type": "markdown",
   "id": "d277f31a",
   "metadata": {},
   "source": [
    "### K-Nearest Neighbor"
   ]
  },
  {
   "cell_type": "markdown",
   "id": "90baf2bf",
   "metadata": {},
   "source": [
    "For K-Nearest Neighbor implementation, we will reduce the dimensionality of the problem using PCA. This is because KNN classifiers calculate distances and hence are susceptible to the curse of dimensionality"
   ]
  },
  {
   "cell_type": "code",
   "execution_count": 23,
   "id": "0190009a",
   "metadata": {},
   "outputs": [],
   "source": [
    "#PCA example\n",
    "from sklearn.decomposition import PCA\n",
    "pca = PCA(n_components=3)\n",
    "pca.fit(X_train)\n",
    "X_transform = pca.transform(X_train)\n",
    "\n",
    "pca.fit(X_test)\n",
    "X_transform_test = pca.transform(X_test)"
   ]
  },
  {
   "cell_type": "code",
   "execution_count": 24,
   "id": "15d3a7a6",
   "metadata": {},
   "outputs": [
    {
     "name": "stdout",
     "output_type": "stream",
     "text": [
      "fitting iteration\n",
      "75996 341 892 3290\n",
      "fitting iteration\n",
      "75914 398 885 3321\n",
      "fitting iteration\n",
      "76110 335 888 3185\n",
      "fitting iteration\n",
      "75873 375 915 3355\n",
      "fitting iteration\n",
      "76072 347 890 3209\n",
      "recall    = 0.7854 ±0.0027\n",
      "precision = 0.9012 ±0.0047\n",
      "f1        = 0.8393 ±0.0015\n"
     ]
    }
   ],
   "source": [
    "from sklearn.neighbors import KNeighborsClassifier\n",
    "\n",
    "knn =KNeighborsClassifier(n_neighbors=3)\n",
    "\n",
    "df_x_pca = pd.DataFrame(X_transform)\n",
    "\n",
    "K_Fold_And_Print_Metrics(knn, df_x_pca, y_train, False)\n",
    "\n",
    "#plot_confusion_matrix(knn, X_transform_test, y_test)"
   ]
  },
  {
   "cell_type": "code",
   "execution_count": 25,
   "id": "4ec5022f",
   "metadata": {},
   "outputs": [
    {
     "data": {
      "text/plain": [
       "<sklearn.metrics._plot.confusion_matrix.ConfusionMatrixDisplay at 0x228d8ce2dc0>"
      ]
     },
     "execution_count": 25,
     "metadata": {},
     "output_type": "execute_result"
    },
    {
     "data": {
      "image/png": "[encoded data removed]",
      "text/plain": [
       "<Figure size 432x288 with 2 Axes>"
      ]
     },
     "metadata": {
      "needs_background": "light"
     },
     "output_type": "display_data"
    }
   ],
   "source": [
    "df_x_pca_test = pd.DataFrame(X_transform_test)\n",
    "plot_confusion_matrix(knn, df_x_pca_test, y_test)"
   ]
  },
  {
   "cell_type": "code",
   "execution_count": 26,
   "id": "3379cd57",
   "metadata": {},
   "outputs": [
    {
     "name": "stdout",
     "output_type": "stream",
     "text": [
      "[0.19424218662484596]\n",
      "[0.4501557632398754]\n",
      "[0.27138273730338835]\n"
     ]
    }
   ],
   "source": [
    "y_pred = knn.predict(df_x_pca_test)\n",
    "print( [metrics.recall_score(y_test, y_pred, average=\"binary\")] )\n",
    "print ( [metrics.precision_score(y_test, y_pred, average=\"binary\")] )\n",
    "print ( [metrics.f1_score(y_test, y_pred, average=\"binary\")] )"
   ]
  },
  {
   "cell_type": "markdown",
   "id": "ef9bff9c",
   "metadata": {},
   "source": [
    "From the above test observations, it is evident that a decision tree classifier would be the best option to solve this problem since it outputs the highest f1-score of 0.8718946256877674 on the test data"
   ]
  },
  {
   "cell_type": "code",
   "execution_count": null,
   "id": "c280ea72",
   "metadata": {},
   "outputs": [],
   "source": []
  }
 ],
 "metadata": {
  "kernelspec": {
   "display_name": "Python 3",
   "language": "python",
   "name": "python3"
  },
  "language_info": {
   "codemirror_mode": {
    "name": "ipython",
    "version": 3
   },
   "file_extension": ".py",
   "mimetype": "text/x-python",
   "name": "python",
   "nbconvert_exporter": "python",
   "pygments_lexer": "ipython3",
   "version": "3.8.8"
  }
 },
 "nbformat": 4,
 "nbformat_minor": 5
}
