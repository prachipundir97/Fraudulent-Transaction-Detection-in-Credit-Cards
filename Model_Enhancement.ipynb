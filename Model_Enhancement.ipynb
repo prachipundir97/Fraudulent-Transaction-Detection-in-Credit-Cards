{
 "cells": [
  {
   "cell_type": "markdown",
   "id": "5cadc70a",
   "metadata": {},
   "source": [
    "### Improving the Best Classifier - Decision Tree"
   ]
  },
  {
   "cell_type": "markdown",
   "id": "44fd8c33",
   "metadata": {},
   "source": [
    "In the previous module, it was found out that Decision Trees are the best classifiers for the problem of detecting frauds. But, a classic decision tree still had a testing F1 score of 0.8718946256877674\n",
    "\n",
    "To further imrpove this score, ensemble models based on Decision trees may be applied on the data. In this section, we will look at 5 different types of ensemble models for Decision trees and evaluate their best hyperparameters:\n",
    "\n",
    "Basic Decision Tree\n",
    "\n",
    "Bagging Classifier\n",
    "\n",
    "Random Forest Classifier\n",
    "\n",
    "Gradient Boosting Classifier\n",
    "\n",
    "XG Boost Classifier\n",
    "\n",
    "Note: For XGBoost classifier, the xgboost library is needed. To install it, open Powershell prompt in Anaconda navigator and run the command below:\n",
    "\n",
    "conda install -c anaconda py-xgboost\n",
    "\n",
    "approx runtime of notebook ~ 50mins"
   ]
  },
  {
   "cell_type": "code",
   "execution_count": null,
   "id": "e4457b29",
   "metadata": {},
   "outputs": [],
   "source": [
    "please note that for XGBoost, "
   ]
  },
  {
   "cell_type": "code",
   "execution_count": 1,
   "id": "b362e162",
   "metadata": {},
   "outputs": [],
   "source": [
    "# Importing Basic Libraries\n",
    "import numpy as np\n",
    "import pandas as pd\n",
    "\n",
    "import matplotlib.pyplot as plt\n",
    "%matplotlib inline\n",
    "import seaborn as sns\n",
    "\n",
    "import sklearn\n",
    "from sklearn import metrics\n",
    "from sklearn import preprocessing\n",
    "\n",
    "from sklearn.metrics import confusion_matrix\n",
    "from sklearn.metrics import plot_confusion_matrix\n",
    "\n",
    "from sklearn.model_selection import GridSearchCV\n",
    "\n",
    "import warnings\n",
    "warnings.filterwarnings('ignore')"
   ]
  },
  {
   "cell_type": "code",
   "execution_count": 2,
   "id": "e5afb8b6",
   "metadata": {},
   "outputs": [],
   "source": [
    "def refine_df (input_df):\n",
    "    input_df.drop(\"Unnamed: 0\", 1, inplace=True)\n",
    "    input_df=input_df.replace(np.NaN, 0)\n",
    "    input_df=input_df.replace('No', 0)\n",
    "    input_df=input_df.replace('Yes', 1)\n",
    "    return input_df"
   ]
  },
  {
   "cell_type": "code",
   "execution_count": 3,
   "id": "a5da8c52",
   "metadata": {},
   "outputs": [],
   "source": [
    "def K_Fold_And_Print_Metrics(mlp_clf, X, y, useMinMax=True):\n",
    "    kfold = model_selection.KFold(5, shuffle=True, random_state=2)\n",
    "\n",
    "    prec, rec, f1 = [], [], []\n",
    "\n",
    "    for train_idx, test_idx in kfold.split(X):\n",
    "        X_train, X_test = X.iloc[train_idx], X.iloc[test_idx]\n",
    "        y_train, y_test = y.iloc[train_idx], y.iloc[test_idx]\n",
    "    \n",
    "        if(useMinMax):\n",
    "            X_scaler = preprocessing.MinMaxScaler()\n",
    "            X_train = X_scaler.fit_transform(X_train)\n",
    "            X_test = X_scaler.transform(X_test)\n",
    "    \n",
    "        print(\"fitting iteration\")\n",
    "        mlp_clf.fit(X_train, y_train)\n",
    "        y_pred = mlp_clf.predict(X_test)\n",
    "        \n",
    "        tn, fp, fn, tp = confusion_matrix(y_test, y_pred, labels=[0, 1]).ravel()\n",
    "        print(tn, fp, fn, tp)\n",
    "        \n",
    "        \n",
    "    \n",
    "        #print(y_pred)\n",
    "        #print(y_test)\n",
    "    \n",
    "        rec += [metrics.recall_score(y_test, y_pred, average=\"binary\")]\n",
    "        prec += [metrics.precision_score(y_test, y_pred, average=\"binary\")]\n",
    "        f1 += [metrics.f1_score(y_test, y_pred, average=\"binary\")]\n",
    "    \n",
    "        #print()\n",
    "\n",
    "    print(\"recall    = {:.4f} ±{:.4f}\".format(np.mean(rec), np.std(rec)))\n",
    "    print(\"precision = {:.4f} ±{:.4f}\".format(np.mean(prec), np.std(prec)))\n",
    "    print(\"f1        = {:.4f} ±{:.4f}\".format(np.mean(f1), np.std(f1)))"
   ]
  },
  {
   "cell_type": "markdown",
   "id": "e38d1392",
   "metadata": {},
   "source": [
    "The first sampled set was used in the last module, the second set is used in this one. Since all of the sets have been sampled using the same technique, we can expect a similar metric for decision trees for this sample as well"
   ]
  },
  {
   "cell_type": "code",
   "execution_count": 4,
   "id": "bc73df18",
   "metadata": {},
   "outputs": [
    {
     "data": {
      "text/html": [
       "<div>\n",
       "<style scoped>\n",
       "    .dataframe tbody tr th:only-of-type {\n",
       "        vertical-align: middle;\n",
       "    }\n",
       "\n",
       "    .dataframe tbody tr th {\n",
       "        vertical-align: top;\n",
       "    }\n",
       "\n",
       "    .dataframe thead th {\n",
       "        text-align: right;\n",
       "    }\n",
       "</style>\n",
       "<table border=\"1\" class=\"dataframe\">\n",
       "  <thead>\n",
       "    <tr style=\"text-align: right;\">\n",
       "      <th></th>\n",
       "      <th>Unnamed: 0</th>\n",
       "      <th>Merchant_State=AA</th>\n",
       "      <th>Merchant_State=AK</th>\n",
       "      <th>Merchant_State=AL</th>\n",
       "      <th>Merchant_State=AR</th>\n",
       "      <th>Merchant_State=AZ</th>\n",
       "      <th>Merchant_State=Albania</th>\n",
       "      <th>Merchant_State=Algeria</th>\n",
       "      <th>Merchant_State=Andorra</th>\n",
       "      <th>Merchant_State=Angola</th>\n",
       "      <th>...</th>\n",
       "      <th>Month</th>\n",
       "      <th>Day</th>\n",
       "      <th>Time</th>\n",
       "      <th>Amount</th>\n",
       "      <th>Merchant_Name</th>\n",
       "      <th>Merchant_City</th>\n",
       "      <th>Zip</th>\n",
       "      <th>MCC</th>\n",
       "      <th>Errors</th>\n",
       "      <th>Is_Fraud</th>\n",
       "    </tr>\n",
       "  </thead>\n",
       "  <tbody>\n",
       "    <tr>\n",
       "      <th>0</th>\n",
       "      <td>0</td>\n",
       "      <td>0</td>\n",
       "      <td>0</td>\n",
       "      <td>0</td>\n",
       "      <td>0</td>\n",
       "      <td>0</td>\n",
       "      <td>0</td>\n",
       "      <td>0</td>\n",
       "      <td>0</td>\n",
       "      <td>0</td>\n",
       "      <td>...</td>\n",
       "      <td>11</td>\n",
       "      <td>15</td>\n",
       "      <td>12</td>\n",
       "      <td>287.13</td>\n",
       "      <td>-8194607650924472520</td>\n",
       "      <td>45373</td>\n",
       "      <td>45373</td>\n",
       "      <td>3001</td>\n",
       "      <td>284097</td>\n",
       "      <td>Yes</td>\n",
       "    </tr>\n",
       "    <tr>\n",
       "      <th>1</th>\n",
       "      <td>1</td>\n",
       "      <td>0</td>\n",
       "      <td>0</td>\n",
       "      <td>0</td>\n",
       "      <td>0</td>\n",
       "      <td>0</td>\n",
       "      <td>0</td>\n",
       "      <td>0</td>\n",
       "      <td>0</td>\n",
       "      <td>0</td>\n",
       "      <td>...</td>\n",
       "      <td>11</td>\n",
       "      <td>15</td>\n",
       "      <td>13</td>\n",
       "      <td>2.41</td>\n",
       "      <td>-7759074308363763111</td>\n",
       "      <td>45373</td>\n",
       "      <td>45373</td>\n",
       "      <td>5651</td>\n",
       "      <td>284097</td>\n",
       "      <td>Yes</td>\n",
       "    </tr>\n",
       "    <tr>\n",
       "      <th>2</th>\n",
       "      <td>2</td>\n",
       "      <td>0</td>\n",
       "      <td>0</td>\n",
       "      <td>0</td>\n",
       "      <td>0</td>\n",
       "      <td>0</td>\n",
       "      <td>0</td>\n",
       "      <td>0</td>\n",
       "      <td>0</td>\n",
       "      <td>0</td>\n",
       "      <td>...</td>\n",
       "      <td>11</td>\n",
       "      <td>16</td>\n",
       "      <td>9</td>\n",
       "      <td>50.81</td>\n",
       "      <td>-551332107213382088</td>\n",
       "      <td>45373</td>\n",
       "      <td>45373</td>\n",
       "      <td>4411</td>\n",
       "      <td>284097</td>\n",
       "      <td>Yes</td>\n",
       "    </tr>\n",
       "    <tr>\n",
       "      <th>3</th>\n",
       "      <td>3</td>\n",
       "      <td>0</td>\n",
       "      <td>0</td>\n",
       "      <td>0</td>\n",
       "      <td>0</td>\n",
       "      <td>0</td>\n",
       "      <td>0</td>\n",
       "      <td>0</td>\n",
       "      <td>0</td>\n",
       "      <td>0</td>\n",
       "      <td>...</td>\n",
       "      <td>11</td>\n",
       "      <td>16</td>\n",
       "      <td>9</td>\n",
       "      <td>248.36</td>\n",
       "      <td>4872340518840476610</td>\n",
       "      <td>45373</td>\n",
       "      <td>45373</td>\n",
       "      <td>5732</td>\n",
       "      <td>284097</td>\n",
       "      <td>Yes</td>\n",
       "    </tr>\n",
       "    <tr>\n",
       "      <th>4</th>\n",
       "      <td>4</td>\n",
       "      <td>0</td>\n",
       "      <td>0</td>\n",
       "      <td>0</td>\n",
       "      <td>0</td>\n",
       "      <td>0</td>\n",
       "      <td>0</td>\n",
       "      <td>0</td>\n",
       "      <td>0</td>\n",
       "      <td>0</td>\n",
       "      <td>...</td>\n",
       "      <td>11</td>\n",
       "      <td>16</td>\n",
       "      <td>11</td>\n",
       "      <td>473.00</td>\n",
       "      <td>-8566951830324093739</td>\n",
       "      <td>45373</td>\n",
       "      <td>45373</td>\n",
       "      <td>3640</td>\n",
       "      <td>284097</td>\n",
       "      <td>Yes</td>\n",
       "    </tr>\n",
       "    <tr>\n",
       "      <th>...</th>\n",
       "      <td>...</td>\n",
       "      <td>...</td>\n",
       "      <td>...</td>\n",
       "      <td>...</td>\n",
       "      <td>...</td>\n",
       "      <td>...</td>\n",
       "      <td>...</td>\n",
       "      <td>...</td>\n",
       "      <td>...</td>\n",
       "      <td>...</td>\n",
       "      <td>...</td>\n",
       "      <td>...</td>\n",
       "      <td>...</td>\n",
       "      <td>...</td>\n",
       "      <td>...</td>\n",
       "      <td>...</td>\n",
       "      <td>...</td>\n",
       "      <td>...</td>\n",
       "      <td>...</td>\n",
       "      <td>...</td>\n",
       "      <td>...</td>\n",
       "    </tr>\n",
       "    <tr>\n",
       "      <th>289350</th>\n",
       "      <td>289350</td>\n",
       "      <td>0</td>\n",
       "      <td>0</td>\n",
       "      <td>0</td>\n",
       "      <td>0</td>\n",
       "      <td>0</td>\n",
       "      <td>0</td>\n",
       "      <td>0</td>\n",
       "      <td>1</td>\n",
       "      <td>0</td>\n",
       "      <td>...</td>\n",
       "      <td>10</td>\n",
       "      <td>20</td>\n",
       "      <td>13</td>\n",
       "      <td>36.90</td>\n",
       "      <td>8263593753316459353</td>\n",
       "      <td>32</td>\n",
       "      <td>32</td>\n",
       "      <td>5411</td>\n",
       "      <td>284097</td>\n",
       "      <td>No</td>\n",
       "    </tr>\n",
       "    <tr>\n",
       "      <th>289351</th>\n",
       "      <td>289351</td>\n",
       "      <td>0</td>\n",
       "      <td>0</td>\n",
       "      <td>0</td>\n",
       "      <td>0</td>\n",
       "      <td>0</td>\n",
       "      <td>0</td>\n",
       "      <td>0</td>\n",
       "      <td>1</td>\n",
       "      <td>0</td>\n",
       "      <td>...</td>\n",
       "      <td>10</td>\n",
       "      <td>21</td>\n",
       "      <td>21</td>\n",
       "      <td>47.64</td>\n",
       "      <td>2714206426893853043</td>\n",
       "      <td>32</td>\n",
       "      <td>32</td>\n",
       "      <td>5813</td>\n",
       "      <td>284097</td>\n",
       "      <td>No</td>\n",
       "    </tr>\n",
       "    <tr>\n",
       "      <th>289352</th>\n",
       "      <td>289352</td>\n",
       "      <td>0</td>\n",
       "      <td>0</td>\n",
       "      <td>0</td>\n",
       "      <td>0</td>\n",
       "      <td>0</td>\n",
       "      <td>0</td>\n",
       "      <td>0</td>\n",
       "      <td>1</td>\n",
       "      <td>0</td>\n",
       "      <td>...</td>\n",
       "      <td>10</td>\n",
       "      <td>14</td>\n",
       "      <td>12</td>\n",
       "      <td>29.64</td>\n",
       "      <td>8263593753316459353</td>\n",
       "      <td>32</td>\n",
       "      <td>32</td>\n",
       "      <td>5411</td>\n",
       "      <td>284097</td>\n",
       "      <td>No</td>\n",
       "    </tr>\n",
       "    <tr>\n",
       "      <th>289353</th>\n",
       "      <td>289353</td>\n",
       "      <td>0</td>\n",
       "      <td>0</td>\n",
       "      <td>0</td>\n",
       "      <td>0</td>\n",
       "      <td>0</td>\n",
       "      <td>0</td>\n",
       "      <td>0</td>\n",
       "      <td>1</td>\n",
       "      <td>0</td>\n",
       "      <td>...</td>\n",
       "      <td>10</td>\n",
       "      <td>14</td>\n",
       "      <td>13</td>\n",
       "      <td>26.22</td>\n",
       "      <td>8263593753316459353</td>\n",
       "      <td>32</td>\n",
       "      <td>32</td>\n",
       "      <td>5411</td>\n",
       "      <td>284097</td>\n",
       "      <td>No</td>\n",
       "    </tr>\n",
       "    <tr>\n",
       "      <th>289354</th>\n",
       "      <td>289354</td>\n",
       "      <td>0</td>\n",
       "      <td>0</td>\n",
       "      <td>0</td>\n",
       "      <td>0</td>\n",
       "      <td>0</td>\n",
       "      <td>0</td>\n",
       "      <td>0</td>\n",
       "      <td>1</td>\n",
       "      <td>0</td>\n",
       "      <td>...</td>\n",
       "      <td>10</td>\n",
       "      <td>20</td>\n",
       "      <td>12</td>\n",
       "      <td>25.43</td>\n",
       "      <td>8263593753316459353</td>\n",
       "      <td>32</td>\n",
       "      <td>32</td>\n",
       "      <td>5411</td>\n",
       "      <td>284097</td>\n",
       "      <td>No</td>\n",
       "    </tr>\n",
       "  </tbody>\n",
       "</table>\n",
       "<p>289355 rows × 250 columns</p>\n",
       "</div>"
      ],
      "text/plain": [
       "        Unnamed: 0  Merchant_State=AA  Merchant_State=AK  Merchant_State=AL  \\\n",
       "0                0                  0                  0                  0   \n",
       "1                1                  0                  0                  0   \n",
       "2                2                  0                  0                  0   \n",
       "3                3                  0                  0                  0   \n",
       "4                4                  0                  0                  0   \n",
       "...            ...                ...                ...                ...   \n",
       "289350      289350                  0                  0                  0   \n",
       "289351      289351                  0                  0                  0   \n",
       "289352      289352                  0                  0                  0   \n",
       "289353      289353                  0                  0                  0   \n",
       "289354      289354                  0                  0                  0   \n",
       "\n",
       "        Merchant_State=AR  Merchant_State=AZ  Merchant_State=Albania  \\\n",
       "0                       0                  0                       0   \n",
       "1                       0                  0                       0   \n",
       "2                       0                  0                       0   \n",
       "3                       0                  0                       0   \n",
       "4                       0                  0                       0   \n",
       "...                   ...                ...                     ...   \n",
       "289350                  0                  0                       0   \n",
       "289351                  0                  0                       0   \n",
       "289352                  0                  0                       0   \n",
       "289353                  0                  0                       0   \n",
       "289354                  0                  0                       0   \n",
       "\n",
       "        Merchant_State=Algeria  Merchant_State=Andorra  Merchant_State=Angola  \\\n",
       "0                            0                       0                      0   \n",
       "1                            0                       0                      0   \n",
       "2                            0                       0                      0   \n",
       "3                            0                       0                      0   \n",
       "4                            0                       0                      0   \n",
       "...                        ...                     ...                    ...   \n",
       "289350                       0                       1                      0   \n",
       "289351                       0                       1                      0   \n",
       "289352                       0                       1                      0   \n",
       "289353                       0                       1                      0   \n",
       "289354                       0                       1                      0   \n",
       "\n",
       "        ...  Month  Day  Time  Amount        Merchant_Name  Merchant_City  \\\n",
       "0       ...     11   15    12  287.13 -8194607650924472520          45373   \n",
       "1       ...     11   15    13    2.41 -7759074308363763111          45373   \n",
       "2       ...     11   16     9   50.81  -551332107213382088          45373   \n",
       "3       ...     11   16     9  248.36  4872340518840476610          45373   \n",
       "4       ...     11   16    11  473.00 -8566951830324093739          45373   \n",
       "...     ...    ...  ...   ...     ...                  ...            ...   \n",
       "289350  ...     10   20    13   36.90  8263593753316459353             32   \n",
       "289351  ...     10   21    21   47.64  2714206426893853043             32   \n",
       "289352  ...     10   14    12   29.64  8263593753316459353             32   \n",
       "289353  ...     10   14    13   26.22  8263593753316459353             32   \n",
       "289354  ...     10   20    12   25.43  8263593753316459353             32   \n",
       "\n",
       "          Zip   MCC  Errors  Is_Fraud  \n",
       "0       45373  3001  284097       Yes  \n",
       "1       45373  5651  284097       Yes  \n",
       "2       45373  4411  284097       Yes  \n",
       "3       45373  5732  284097       Yes  \n",
       "4       45373  3640  284097       Yes  \n",
       "...       ...   ...     ...       ...  \n",
       "289350     32  5411  284097        No  \n",
       "289351     32  5813  284097        No  \n",
       "289352     32  5411  284097        No  \n",
       "289353     32  5411  284097        No  \n",
       "289354     32  5411  284097        No  \n",
       "\n",
       "[289355 rows x 250 columns]"
      ]
     },
     "execution_count": 4,
     "metadata": {},
     "output_type": "execute_result"
    }
   ],
   "source": [
    "df = pd.read_csv(\"Datasets/ohe_sampled_cc_2.csv\")\n",
    "df"
   ]
  },
  {
   "cell_type": "code",
   "execution_count": 5,
   "id": "0cd95d3f",
   "metadata": {},
   "outputs": [],
   "source": [
    "df = refine_df(df)"
   ]
  },
  {
   "cell_type": "code",
   "execution_count": 6,
   "id": "88d00d86",
   "metadata": {},
   "outputs": [
    {
     "name": "stdout",
     "output_type": "stream",
     "text": [
      "TRAIN: [ 81552   3115 245214 ... 220560 256491 222392] TEST: [134707  31737  11583 ... 277104  99103  76128]\n",
      "TRAIN: [108657   6588 125819 ... 152267 287572  79673] TEST: [ 95062  45320 258510 ... 234765 244316 180534]\n",
      "TRAIN: [202241  31590  26856 ... 130497 282732 218468] TEST: [275309  51783 200654 ... 202459 134903 255378]\n",
      "TRAIN: [148381 138350  64153 ... 192190  11160  41059] TEST: [ 46472  56413  78457 ... 137844 167112 226027]\n",
      "TRAIN: [197398 125668 150899 ... 115911 157136 113472] TEST: [ 30426 259067 251528 ... 229996 133665 191321]\n"
     ]
    }
   ],
   "source": [
    "y= df[\"Is_Fraud\"]  \n",
    "X= df.drop([\"Is_Fraud\"],axis=1)\n",
    "\n",
    "from sklearn import model_selection\n",
    "from sklearn.model_selection import StratifiedShuffleSplit\n",
    "\n",
    "sss = StratifiedShuffleSplit(n_splits=5, test_size=0.3, train_size=0.7, random_state=42)\n",
    "sss.get_n_splits(X, y)\n",
    "\n",
    "for train_index, test_index in sss.split(X, y):\n",
    "    print(\"TRAIN:\", train_index, \"TEST:\", test_index)\n",
    "    X_train, X_test = X.iloc[train_index], X.iloc[test_index]\n",
    "    y_train, y_test = y.iloc[train_index], y.iloc[test_index]"
   ]
  },
  {
   "cell_type": "code",
   "execution_count": 7,
   "id": "b16cd047",
   "metadata": {},
   "outputs": [
    {
     "name": "stdout",
     "output_type": "stream",
     "text": [
      "fitting iteration\n",
      "35793 528 514 3675\n",
      "fitting iteration\n",
      "35814 562 506 3628\n",
      "fitting iteration\n",
      "35791 534 486 3699\n",
      "fitting iteration\n",
      "35816 539 517 3637\n",
      "fitting iteration\n",
      "35796 545 534 3634\n",
      "recall    = 0.8772 ±0.0039\n",
      "precision = 0.8709 ±0.0031\n",
      "f1        = 0.8741 ±0.0029\n",
      "\n",
      "------ Test Scores: -------\n",
      "[0.878122549568724]\n",
      "[0.8760616897630755]\n",
      "[0.8770909090909089]\n"
     ]
    },
    {
     "data": {
      "image/png": "[encoded data removed]",
      "text/plain": [
       "<Figure size 432x288 with 2 Axes>"
      ]
     },
     "metadata": {
      "needs_background": "light"
     },
     "output_type": "display_data"
    }
   ],
   "source": [
    "from sklearn import tree\n",
    "\n",
    "infoGain_clf= sklearn.tree.DecisionTreeClassifier(criterion='entropy')\n",
    "\n",
    "K_Fold_And_Print_Metrics(infoGain_clf, X_train, y_train, False)\n",
    "\n",
    "plot_confusion_matrix(infoGain_clf, X_test, y_test)\n",
    "\n",
    "y_pred = infoGain_clf.predict(X_test)\n",
    "print()\n",
    "print(\"------ Test Scores: -------\")\n",
    "print( [metrics.recall_score(y_test, y_pred, average=\"binary\")] )\n",
    "print ( [metrics.precision_score(y_test, y_pred, average=\"binary\")] )\n",
    "print ( [metrics.f1_score(y_test, y_pred, average=\"binary\")] )"
   ]
  },
  {
   "cell_type": "markdown",
   "id": "b3b2d995",
   "metadata": {},
   "source": [
    "As expected, the f1 score of a normal Decision Tree in this dataset is close to the one for the last dataset, which was 0.8718946256877674"
   ]
  },
  {
   "cell_type": "markdown",
   "id": "8d59d7ea",
   "metadata": {},
   "source": [
    "### Evaluating Hyperparameters and Testing Scores"
   ]
  },
  {
   "cell_type": "markdown",
   "id": "c2c4793e",
   "metadata": {},
   "source": [
    "For evaluating Hyperparameters, we will only use a subset of the loaded csv data for faster computation. Since we plan to use GridSearchCV for our analysis, we can expect a lot of fits and hence, a smaller chunk of data will be used to evaluate the best hyperparameters then the testing scores of each module will be seen."
   ]
  },
  {
   "cell_type": "code",
   "execution_count": 8,
   "id": "46b2a112",
   "metadata": {},
   "outputs": [
    {
     "data": {
      "text/plain": [
       "0    8975\n",
       "1    1025\n",
       "Name: Is_Fraud, dtype: int64"
      ]
     },
     "execution_count": 8,
     "metadata": {},
     "output_type": "execute_result"
    }
   ],
   "source": [
    "y_train[:10000].value_counts()"
   ]
  },
  {
   "cell_type": "code",
   "execution_count": 9,
   "id": "94e8e7d4",
   "metadata": {},
   "outputs": [],
   "source": [
    "evaluation_index = 10000"
   ]
  },
  {
   "cell_type": "markdown",
   "id": "bfbcebb9",
   "metadata": {},
   "source": [
    "First we look at the scores by fitting a normal decision tree on the smaller chunk of data to get a rough measure of what the scores will be like on the scaled down data"
   ]
  },
  {
   "cell_type": "code",
   "execution_count": 10,
   "id": "9bc5cfd2",
   "metadata": {},
   "outputs": [
    {
     "name": "stdout",
     "output_type": "stream",
     "text": [
      "fitting iteration\n",
      "1754 39 50 157\n",
      "fitting iteration\n",
      "1745 36 46 173\n",
      "fitting iteration\n",
      "1760 40 34 166\n",
      "fitting iteration\n",
      "1755 41 37 167\n",
      "fitting iteration\n",
      "1759 46 44 151\n",
      "recall    = 0.7943 ±0.0267\n",
      "precision = 0.8008 ±0.0197\n",
      "f1        = 0.7973 ±0.0188\n",
      "\n",
      "------ Test Scores: -------\n",
      "[0.8110227400022404]\n",
      "[0.814123467896098]\n",
      "[0.8125701459034792]\n"
     ]
    },
    {
     "data": {
      "image/png": "[encoded data removed]",
      "text/plain": [
       "<Figure size 432x288 with 2 Axes>"
      ]
     },
     "metadata": {
      "needs_background": "light"
     },
     "output_type": "display_data"
    }
   ],
   "source": [
    "from sklearn import tree\n",
    "\n",
    "infoGain_clf= sklearn.tree.DecisionTreeClassifier(criterion='entropy')\n",
    "\n",
    "K_Fold_And_Print_Metrics(infoGain_clf, X_train[:evaluation_index], y_train[:evaluation_index], False)\n",
    "\n",
    "plot_confusion_matrix(infoGain_clf, X_test[:evaluation_index], y_test[:evaluation_index])\n",
    "\n",
    "y_pred = infoGain_clf.predict(X_test)\n",
    "print()\n",
    "print(\"------ Test Scores: -------\")\n",
    "print( [metrics.recall_score(y_test, y_pred, average=\"binary\")] )\n",
    "print ( [metrics.precision_score(y_test, y_pred, average=\"binary\")] )\n",
    "print ( [metrics.f1_score(y_test, y_pred, average=\"binary\")] )"
   ]
  },
  {
   "cell_type": "markdown",
   "id": "842eda2b",
   "metadata": {},
   "source": [
    "### Bagging Classifier"
   ]
  },
  {
   "cell_type": "code",
   "execution_count": 11,
   "id": "ba92439d",
   "metadata": {},
   "outputs": [
    {
     "name": "stdout",
     "output_type": "stream",
     "text": [
      "Fitting 5 folds for each of 6 candidates, totalling 30 fits\n",
      "Best f1:  0.8564045100492116\n",
      "Best hyperparameters:  {'base_estimator__criterion': 'entropy', 'n_estimators': 20}\n",
      "\n",
      "------ Test Scores: -------\n",
      "[0.7841658812441094]\n",
      "[0.942242355605889]\n",
      "[0.8559670781893004]\n"
     ]
    }
   ],
   "source": [
    "from sklearn.ensemble import BaggingClassifier\n",
    "\n",
    "params = {\"base_estimator__criterion\": ['gini', 'entropy'], \n",
    "          \"n_estimators\": [5, 10, 20]}\n",
    "\n",
    "bagged_clf = BaggingClassifier(base_estimator=infoGain_clf, random_state=7)\n",
    "\n",
    "#bagged_clf.get_params()\n",
    "\n",
    "grid_bagged = GridSearchCV(estimator=bagged_clf, cv=5, param_grid=params, scoring='f1', n_jobs=-1, verbose=1)\n",
    "\n",
    "grid_bagged.fit(X_train[:evaluation_index], y_train[:evaluation_index])\n",
    "#Printing best hyperparameters\n",
    "print(\"Best f1: \", grid_bagged.best_score_)\n",
    "print(\"Best hyperparameters: \", grid_bagged.best_params_)\n",
    "y_pred = grid_bagged.predict(X_test[:evaluation_index])\n",
    "print()\n",
    "print(\"------ Test Scores: -------\")\n",
    "print( [metrics.recall_score(y_test[:evaluation_index], y_pred, average=\"binary\")] )\n",
    "print ( [metrics.precision_score(y_test[:evaluation_index], y_pred, average=\"binary\")] )\n",
    "print ( [metrics.f1_score(y_test[:evaluation_index], y_pred, average=\"binary\")] )"
   ]
  },
  {
   "cell_type": "code",
   "execution_count": 12,
   "id": "1c87f50d",
   "metadata": {},
   "outputs": [
    {
     "name": "stdout",
     "output_type": "stream",
     "text": [
      "------ Test Scores: -------\n",
      "[0.873865800380867]\n",
      "[0.96415770609319]\n",
      "[0.9167939828416969]\n"
     ]
    }
   ],
   "source": [
    "grid_bagged.best_estimator_.fit(X_train, y_train)\n",
    "y_pred = grid_bagged.best_estimator_.predict(X_test)\n",
    "\n",
    "print(\"------ Test Scores: -------\")\n",
    "print( [metrics.recall_score(y_test, y_pred, average=\"binary\")] )\n",
    "print ( [metrics.precision_score(y_test, y_pred, average=\"binary\")] )\n",
    "print ( [metrics.f1_score(y_test, y_pred, average=\"binary\")] )"
   ]
  },
  {
   "cell_type": "markdown",
   "id": "627f32a3",
   "metadata": {},
   "source": [
    "### Random Forest Classifier"
   ]
  },
  {
   "cell_type": "code",
   "execution_count": 13,
   "id": "d6527cc8",
   "metadata": {},
   "outputs": [
    {
     "name": "stdout",
     "output_type": "stream",
     "text": [
      "fitting iteration\n",
      "36086 235 775 3414\n",
      "fitting iteration\n",
      "36164 212 735 3399\n",
      "fitting iteration\n",
      "36105 220 735 3450\n",
      "fitting iteration\n",
      "36131 224 736 3418\n",
      "fitting iteration\n",
      "36097 244 731 3437\n",
      "recall    = 0.8218 ±0.0035\n",
      "precision = 0.9378 ±0.0028\n",
      "f1        = 0.8760 ±0.0026\n",
      "\n",
      "------ Test Scores: -------\n",
      "[0.8295059930547777]\n",
      "[0.9409148665819568]\n",
      "[0.8817050663809014]\n"
     ]
    },
    {
     "data": {
      "image/png": "[encoded data removed]",
      "text/plain": [
       "<Figure size 432x288 with 2 Axes>"
      ]
     },
     "metadata": {
      "needs_background": "light"
     },
     "output_type": "display_data"
    }
   ],
   "source": [
    "from sklearn.ensemble import RandomForestClassifier\n",
    "\n",
    "rf_clf = RandomForestClassifier(n_jobs = -1)\n",
    "\n",
    "K_Fold_And_Print_Metrics(rf_clf, X_train, y_train, False)\n",
    "\n",
    "plot_confusion_matrix(rf_clf, X_test, y_test)\n",
    "\n",
    "y_pred = rf_clf.predict(X_test)\n",
    "print()\n",
    "print(\"------ Test Scores: -------\")\n",
    "print( [metrics.recall_score(y_test, y_pred, average=\"binary\")] )\n",
    "print ( [metrics.precision_score(y_test, y_pred, average=\"binary\")] )\n",
    "print ( [metrics.f1_score(y_test, y_pred, average=\"binary\")] )"
   ]
  },
  {
   "cell_type": "code",
   "execution_count": 14,
   "id": "da19ddf5",
   "metadata": {},
   "outputs": [
    {
     "name": "stdout",
     "output_type": "stream",
     "text": [
      "Fitting 5 folds for each of 8 candidates, totalling 40 fits\n",
      "Best f1:  0.802349702408843\n",
      "Best hyperparameters:  {'criterion': 'entropy', 'n_estimators': 200}\n",
      "\n",
      "------ Test Scores: -------\n",
      "[0.7417530631479736]\n",
      "[0.8773690078037905]\n",
      "[0.8038815117466803]\n"
     ]
    }
   ],
   "source": [
    "params = {\"criterion\": ['gini', 'entropy'], \"n_estimators\": [100, 200, 500, 1000]}\n",
    "\n",
    "\n",
    "grid_rf = GridSearchCV(estimator=rf_clf, cv=5, param_grid=params, scoring='f1', n_jobs=-1, verbose=1)\n",
    "\n",
    "grid_rf.fit(X_train[:evaluation_index], y_train[:evaluation_index])\n",
    "#Printing best hyperparameters\n",
    "print(\"Best f1: \", grid_rf.best_score_)\n",
    "print(\"Best hyperparameters: \", grid_rf.best_params_)\n",
    "y_pred = grid_rf.predict(X_test[:evaluation_index])\n",
    "print()\n",
    "print(\"------ Test Scores: -------\")\n",
    "print( [metrics.recall_score(y_test[:evaluation_index], y_pred, average=\"binary\")] )\n",
    "print ( [metrics.precision_score(y_test[:evaluation_index], y_pred, average=\"binary\")] )\n",
    "print ( [metrics.f1_score(y_test[:evaluation_index], y_pred, average=\"binary\")] )"
   ]
  },
  {
   "cell_type": "code",
   "execution_count": 15,
   "id": "037a233a",
   "metadata": {},
   "outputs": [
    {
     "name": "stdout",
     "output_type": "stream",
     "text": [
      "------ Test Scores: -------\n",
      "[0.8335387028116948]\n",
      "[0.9436905516804058]\n",
      "[0.8852010468712824]\n"
     ]
    }
   ],
   "source": [
    "grid_rf.best_estimator_.fit(X_train, y_train)\n",
    "y_pred = grid_rf.best_estimator_.predict(X_test)\n",
    "\n",
    "print(\"------ Test Scores: -------\")\n",
    "print( [metrics.recall_score(y_test, y_pred, average=\"binary\")] )\n",
    "print ( [metrics.precision_score(y_test, y_pred, average=\"binary\")] )\n",
    "print ( [metrics.f1_score(y_test, y_pred, average=\"binary\")] )"
   ]
  },
  {
   "cell_type": "markdown",
   "id": "c18b01e7",
   "metadata": {},
   "source": [
    "### Gradient Boosting Classifier"
   ]
  },
  {
   "cell_type": "code",
   "execution_count": 16,
   "id": "a46fb0e8",
   "metadata": {},
   "outputs": [
    {
     "name": "stdout",
     "output_type": "stream",
     "text": [
      "fitting iteration\n",
      "35951 370 922 3267\n",
      "fitting iteration\n",
      "36050 326 892 3242\n",
      "fitting iteration\n",
      "36007 318 917 3268\n",
      "fitting iteration\n",
      "36019 336 868 3286\n",
      "fitting iteration\n",
      "35962 379 876 3292\n",
      "recall    = 0.7852 ±0.0045\n",
      "precision = 0.9044 ±0.0058\n",
      "f1        = 0.8406 ±0.0033\n",
      "\n",
      "------ Test Scores: -------\n",
      "[0.7993726895933684]\n",
      "[0.9050095117311351]\n",
      "[0.8489174399238639]\n"
     ]
    },
    {
     "data": {
      "image/png": "[encoded data removed]",
      "text/plain": [
       "<Figure size 432x288 with 2 Axes>"
      ]
     },
     "metadata": {
      "needs_background": "light"
     },
     "output_type": "display_data"
    }
   ],
   "source": [
    "from sklearn.ensemble import GradientBoostingClassifier\n",
    "\n",
    "gb_clf = GradientBoostingClassifier()\n",
    "\n",
    "K_Fold_And_Print_Metrics(gb_clf, X_train, y_train, False)\n",
    "\n",
    "plot_confusion_matrix(gb_clf, X_test, y_test)\n",
    "\n",
    "y_pred = gb_clf.predict(X_test)\n",
    "print()\n",
    "print(\"------ Test Scores: -------\")\n",
    "print( [metrics.recall_score(y_test, y_pred, average=\"binary\")] )\n",
    "print ( [metrics.precision_score(y_test, y_pred, average=\"binary\")] )\n",
    "print ( [metrics.f1_score(y_test, y_pred, average=\"binary\")] )"
   ]
  },
  {
   "cell_type": "code",
   "execution_count": 18,
   "id": "dda79dbe",
   "metadata": {},
   "outputs": [
    {
     "name": "stdout",
     "output_type": "stream",
     "text": [
      "Fitting 5 folds for each of 4 candidates, totalling 20 fits\n",
      "Best f1:  0.8648581338447737\n",
      "Best hyperparameters:  {'n_estimators': 500}\n",
      "\n",
      "------ Test Scores: -------\n",
      "[0.8152686145146089]\n",
      "[0.9172852598091198]\n",
      "[0.8632734530938123]\n"
     ]
    }
   ],
   "source": [
    "params = {\"n_estimators\": [50, 100, 200, 500]}\n",
    "\n",
    "\n",
    "grid_gb = GridSearchCV(estimator=gb_clf, cv=5, param_grid=params, scoring='f1', n_jobs=-1, verbose=1)\n",
    "\n",
    "grid_gb.fit(X_train[:evaluation_index], y_train[:evaluation_index])\n",
    "#Printing best hyperparameters\n",
    "print(\"Best f1: \", grid_gb.best_score_)\n",
    "print(\"Best hyperparameters: \", grid_gb.best_params_)\n",
    "y_pred = grid_gb.predict(X_test[:evaluation_index])\n",
    "print()\n",
    "print(\"------ Test Scores: -------\")\n",
    "print( [metrics.recall_score(y_test[:evaluation_index], y_pred, average=\"binary\")] )\n",
    "print ( [metrics.precision_score(y_test[:evaluation_index], y_pred, average=\"binary\")] )\n",
    "print ( [metrics.f1_score(y_test[:evaluation_index], y_pred, average=\"binary\")] )"
   ]
  },
  {
   "cell_type": "code",
   "execution_count": 19,
   "id": "c4a53833",
   "metadata": {},
   "outputs": [
    {
     "name": "stdout",
     "output_type": "stream",
     "text": [
      "------ Test Scores: -------\n",
      "[0.8581830402150779]\n",
      "[0.9567878106656675]\n",
      "[0.9048068973662454]\n"
     ]
    }
   ],
   "source": [
    "grid_gb.best_estimator_.fit(X_train, y_train)\n",
    "y_pred = grid_gb.best_estimator_.predict(X_test)\n",
    "\n",
    "print(\"------ Test Scores: -------\")\n",
    "print( [metrics.recall_score(y_test, y_pred, average=\"binary\")] )\n",
    "print ( [metrics.precision_score(y_test, y_pred, average=\"binary\")] )\n",
    "print ( [metrics.f1_score(y_test, y_pred, average=\"binary\")] )"
   ]
  },
  {
   "cell_type": "markdown",
   "id": "ab46baed",
   "metadata": {},
   "source": [
    "### XGBoost Classifier"
   ]
  },
  {
   "cell_type": "code",
   "execution_count": 20,
   "id": "4383d55a",
   "metadata": {},
   "outputs": [],
   "source": [
    "from xgboost.sklearn import XGBClassifier\n",
    "from scipy import stats\n",
    "\n",
    "xgb = XGBClassifier()"
   ]
  },
  {
   "cell_type": "code",
   "execution_count": 21,
   "id": "443eecec",
   "metadata": {},
   "outputs": [
    {
     "name": "stdout",
     "output_type": "stream",
     "text": [
      "Fitting 5 folds for each of 4 candidates, totalling 20 fits\n",
      "[10:36:47] WARNING: ..\\src\\learner.cc:1115: Starting in XGBoost 1.3.0, the default evaluation metric used with the objective 'binary:logistic' was changed from 'error' to 'logloss'. Explicitly set eval_metric if you'd like to restore the old behavior.\n",
      "Best f1:  0.8651531601013968\n",
      "Best hyperparameters:  {'n_estimators': 200}\n",
      "\n",
      "------ Test Scores: -------\n",
      "[0.8143261074458058]\n",
      "[0.9320388349514563]\n",
      "[0.869215291750503]\n"
     ]
    }
   ],
   "source": [
    "params = {\"n_estimators\": [50, 100, 200, 500]}\n",
    "\n",
    "\n",
    "grid_xg = GridSearchCV(estimator=xgb, cv=5, param_grid=params, scoring='f1', n_jobs=-1, verbose=1)\n",
    "\n",
    "grid_xg.fit(X_train[:evaluation_index], y_train[:evaluation_index])\n",
    "#Printing best hyperparameters\n",
    "print(\"Best f1: \", grid_xg.best_score_)\n",
    "print(\"Best hyperparameters: \", grid_xg.best_params_)\n",
    "y_pred = grid_xg.predict(X_test[:evaluation_index])\n",
    "print()\n",
    "print(\"------ Test Scores: -------\")\n",
    "print( [metrics.recall_score(y_test[:evaluation_index], y_pred, average=\"binary\")] )\n",
    "print ( [metrics.precision_score(y_test[:evaluation_index], y_pred, average=\"binary\")] )\n",
    "print ( [metrics.f1_score(y_test[:evaluation_index], y_pred, average=\"binary\")] )"
   ]
  },
  {
   "cell_type": "code",
   "execution_count": 22,
   "id": "8ccd3ba2",
   "metadata": {},
   "outputs": [
    {
     "name": "stdout",
     "output_type": "stream",
     "text": [
      "[10:36:54] WARNING: ..\\src\\learner.cc:1115: Starting in XGBoost 1.3.0, the default evaluation metric used with the objective 'binary:logistic' was changed from 'error' to 'logloss'. Explicitly set eval_metric if you'd like to restore the old behavior.\n",
      "------ Test Scores: -------\n",
      "[0.9118404839251708]\n",
      "[0.9675502198977772]\n",
      "[0.9388696655132641]\n"
     ]
    }
   ],
   "source": [
    "grid_xg.best_estimator_.fit(X_train, y_train)\n",
    "y_pred = grid_xg.best_estimator_.predict(X_test)\n",
    "\n",
    "print(\"------ Test Scores: -------\")\n",
    "print( [metrics.recall_score(y_test, y_pred, average=\"binary\")] )\n",
    "print ( [metrics.precision_score(y_test, y_pred, average=\"binary\")] )\n",
    "print ( [metrics.f1_score(y_test, y_pred, average=\"binary\")] )"
   ]
  },
  {
   "cell_type": "code",
   "execution_count": 23,
   "id": "8854c722",
   "metadata": {},
   "outputs": [],
   "source": [
    "def print_metrics(y_test, y_pred):\n",
    "    print(\"------ Test Scores: -------\")\n",
    "    print( [metrics.recall_score(y_test, y_pred, average=\"binary\")] )\n",
    "    print ( [metrics.precision_score(y_test, y_pred, average=\"binary\")] )\n",
    "    print ( [metrics.f1_score(y_test, y_pred, average=\"binary\")] )\n",
    "    print()"
   ]
  },
  {
   "cell_type": "markdown",
   "id": "3c96e17a",
   "metadata": {},
   "source": [
    "### Oversampling the Data"
   ]
  },
  {
   "cell_type": "markdown",
   "id": "6788ce3e",
   "metadata": {},
   "source": [
    "It can be seen clearly that ensemble methods result in better performance than a sole Decision tree. But the highest score is still 0.9388696655132641. There is still scope to improve this score. We balanced the class after the exploratory analysis by undersampling the data. Now to further balance the classes, we use the technique of 'oversampling'. The technique used here for oversampling and generating synthetic data for the imbalanced class is ADASYN. For running this, imblearn library is required to be installed. \n",
    "\n",
    "To install the library, simply open a Powershell Prompt in Anaconda navigator and run the command below:\n",
    "\n",
    "conda install -c conda-forge imbalanced-learn"
   ]
  },
  {
   "cell_type": "code",
   "execution_count": 24,
   "id": "ae102ae8",
   "metadata": {},
   "outputs": [],
   "source": [
    "from imblearn import over_sampling\n",
    "\n",
    "ada = over_sampling.ADASYN(random_state=0)\n",
    "X_train_adasyn, y_train_adasyn = ada.fit_resample(X_train, y_train)\n",
    "X_test_adasyn, y_test_adasyn = ada.fit_resample(X_test, y_test)"
   ]
  },
  {
   "cell_type": "code",
   "execution_count": 25,
   "id": "7f640d40",
   "metadata": {},
   "outputs": [],
   "source": [
    "def get_metrics(X_train, y_train, X_test, y_test, clf):\n",
    "    clf.fit(X_train, y_train)\n",
    "    y_pred = clf.predict(X_test)\n",
    "    print_metrics(y_test, y_pred)"
   ]
  },
  {
   "cell_type": "markdown",
   "id": "4bcf967a",
   "metadata": {},
   "source": [
    "Now we evaluate the performance of all models with their best parameters on the balanced data generated by ADASYN"
   ]
  },
  {
   "cell_type": "code",
   "execution_count": 26,
   "id": "d4ae282c",
   "metadata": {},
   "outputs": [
    {
     "name": "stdout",
     "output_type": "stream",
     "text": [
      "Decision Tree\n",
      "------ Test Scores: -------\n",
      "[0.955068975334524]\n",
      "[0.976436500271225]\n",
      "[0.9656345473220068]\n",
      "\n",
      "XG Boost\n",
      "[10:40:32] WARNING: ..\\src\\learner.cc:1115: Starting in XGBoost 1.3.0, the default evaluation metric used with the objective 'binary:logistic' was changed from 'error' to 'logloss'. Explicitly set eval_metric if you'd like to restore the old behavior.\n",
      "------ Test Scores: -------\n",
      "[0.978621528586588]\n",
      "[0.991178976341831]\n",
      "[0.9848602256965924]\n",
      "\n",
      "Gradient Boosting\n",
      "------ Test Scores: -------\n",
      "[0.9644770556720242]\n",
      "[0.9829339382509265]\n",
      "[0.9736180330117508]\n",
      "\n",
      "Random Forest\n",
      "------ Test Scores: -------\n",
      "[0.9599865413981417]\n",
      "[0.9872898838122364]\n",
      "[0.9734467984594287]\n",
      "\n",
      "Bagged Boosting\n",
      "------ Test Scores: -------\n",
      "[0.9589900872220928]\n",
      "[0.9909867743617861]\n",
      "[0.974725917936509]\n",
      "\n"
     ]
    }
   ],
   "source": [
    "print(\"Decision Tree\")\n",
    "get_metrics(X_train_adasyn, y_train_adasyn, X_test_adasyn, y_test_adasyn, infoGain_clf)\n",
    "print(\"XG Boost\")\n",
    "get_metrics(X_train_adasyn, y_train_adasyn, X_test_adasyn, y_test_adasyn, grid_xg.best_estimator_)\n",
    "print(\"Gradient Boosting\")\n",
    "get_metrics(X_train_adasyn, y_train_adasyn, X_test_adasyn, y_test_adasyn, grid_gb.best_estimator_)\n",
    "print(\"Random Forest\")\n",
    "get_metrics(X_train_adasyn, y_train_adasyn, X_test_adasyn, y_test_adasyn, grid_rf.best_estimator_)\n",
    "print(\"Bagged Boosting\")\n",
    "get_metrics(X_train_adasyn, y_train_adasyn, X_test_adasyn, y_test_adasyn, grid_bagged.best_estimator_)"
   ]
  },
  {
   "cell_type": "markdown",
   "id": "04b23307",
   "metadata": {},
   "source": [
    "Therefore, after oversampling the data by applying ADASYN, it is evident that the XGBoost performs the best with an f1 score of 0.984860. Now, we need to see its performance over the entire sampled dataset with its best parameters obtained (n_estimators=200)"
   ]
  }
 ],
 "metadata": {
  "kernelspec": {
   "display_name": "Python 3",
   "language": "python",
   "name": "python3"
  },
  "language_info": {
   "codemirror_mode": {
    "name": "ipython",
    "version": 3
   },
   "file_extension": ".py",
   "mimetype": "text/x-python",
   "name": "python",
   "nbconvert_exporter": "python",
   "pygments_lexer": "ipython3",
   "version": "3.8.8"
  }
 },
 "nbformat": 4,
 "nbformat_minor": 5
}
